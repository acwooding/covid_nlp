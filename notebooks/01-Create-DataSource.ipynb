{
 "cells": [
  {
   "cell_type": "markdown",
   "metadata": {},
   "source": [
    "In this notebook, we will define the basic data sources. Once this is run once, data source creation will be serialized to the catalog. Once this `datasources.json` catalog file has been created, you won't need to run this again."
   ]
  },
  {
   "cell_type": "code",
   "execution_count": 1,
   "metadata": {},
   "outputs": [],
   "source": [
    "# Basic utility functions\n",
    "import logging\n",
    "import pathlib\n",
    "import os"
   ]
  },
  {
   "cell_type": "code",
   "execution_count": 2,
   "metadata": {},
   "outputs": [],
   "source": [
    "# Easydata Imports\n",
    "from src import paths\n",
    "from src.log import logger"
   ]
  },
  {
   "cell_type": "code",
   "execution_count": 3,
   "metadata": {},
   "outputs": [],
   "source": [
    "logger.setLevel(logging.DEBUG)"
   ]
  },
  {
   "cell_type": "code",
   "execution_count": 4,
   "metadata": {},
   "outputs": [],
   "source": [
    "%load_ext autoreload\n",
    "%autoreload 2"
   ]
  },
  {
   "cell_type": "markdown",
   "metadata": {},
   "source": [
    "## Create the Data Source\n",
    "This data source encapsulates the data at:\n",
    "    https://pages.semanticscholar.org/coronavirus-research\n",
    "\n"
   ]
  },
  {
   "cell_type": "code",
   "execution_count": 5,
   "metadata": {},
   "outputs": [],
   "source": [
    "from src.data import DataSource"
   ]
  },
  {
   "cell_type": "code",
   "execution_count": 6,
   "metadata": {},
   "outputs": [],
   "source": [
    "extract_date = '20200319'\n",
    "ds_name = f'covid_nlp_{extract_date}'\n",
    "dsrc = DataSource(ds_name)"
   ]
  },
  {
   "cell_type": "markdown",
   "metadata": {},
   "source": [
    "### Add Metadata"
   ]
  },
  {
   "cell_type": "code",
   "execution_count": 7,
   "metadata": {},
   "outputs": [],
   "source": [
    "license_txt = '''COVID DATASET LICENSE AGREEMENT\n",
    "By accessing, downloading or otherwise using any Journals, Articles, Metadata, Abstracts,\n",
    "Full-Texts or any other content types provided in the COVID-19 Open Research Dataset (CORD-19)\n",
    "Database (the “Data”), You expressly acknowledge and agree to the following:\n",
    "\n",
    "* AI2 grants to You a worldwide, perpetual, non-exclusive, non-transferable\n",
    "  license to use and make derivatives of the Data for text and data mining only.\n",
    "\n",
    "* AI2 warrants that it has the right to make the Data available to You as\n",
    "  provided for in and subject to this Agreement and in accordance with applicable law. \n",
    "  EXCEPT FOR THE LIMITED WARRANTY IN THIS SECTION, THE DATA IS PROVIDED “AS IS”, WITHOUT ANY\n",
    "  WARRANTIES OF ANY KIND. \n",
    "\n",
    "* You agree to comply with all applicable local, state, national, and international laws\n",
    "  and regulations with respect to AI2’s license and Youruse of the Data.\n",
    "\n",
    "* Data provided by AI2 is from copyrighted sources of the respective copyright holders.\n",
    "  You are solely responsible for Your and Your users’ compliance with any copyright, patent\n",
    "  or trademark restrictions and are referred to the copyright, patent or trademark notices\n",
    "  appearing in the original sources, all of which are hereby incorporated by reference.\n",
    "'''"
   ]
  },
  {
   "cell_type": "code",
   "execution_count": 8,
   "metadata": {},
   "outputs": [],
   "source": [
    "readme_txt = '''COVID-19 Open Research Dataset (CORD-19)\n",
    "Participate in the CORD-19 Challenge\n",
    "\n",
    "Kaggle is hosting the COVID-19 Open Research Dataset Challenge, a\n",
    "series of important questions designed to inspire the community\n",
    "to use CORD-19 to find new insights about the COVID-19 pandemic\n",
    "including the natural history, transmission, and diagnostics for\n",
    "the virus, management measures at the human-animal interface,\n",
    "lessons from previous epidemiological studies, and more.\n",
    "Download CORD-19\n",
    "\n",
    "By downloading this dataset you are agreeing to the Dataset\n",
    "License. Specific licensing information for individual articles\n",
    "in the dataset is available in the metadata file.\n",
    "\n",
    "Additional licensing information is available on the PMC website,\n",
    "medRxiv website and bioRxiv website.\n",
    "\n",
    "Latest release contains papers up until 2020-03-13 with over\n",
    "13,000 full text articles.\n",
    "\n",
    "Download here:\n",
    "\n",
    "    Commercial use subset (includes PMC content) -- 9000 papers, 186Mb\n",
    "    Non-commercial use subset (includes PMC content) -- 1973 papers, 36Mb\n",
    "    PMC custom license subset -- 1426 papers, 19Mb\n",
    "    bioRxiv/medRxiv subset (pre-prints that are not peer reviewed) -- 803 papers, 13Mb\n",
    "    Metadata file -- 47Mb\n",
    "    Readme\n",
    "\n",
    "Each paper is represented as a single JSON object. The schema is\n",
    "available here.\n",
    "\n",
    "Description:\n",
    "\n",
    "The dataset contains all COVID-19 and coronavirus-related\n",
    "research (e.g. SARS, MERS, etc.) from the following sources:\n",
    "\n",
    "* PubMed's PMC open access corpus using this query\n",
    "  (COVID-19 and coronavirus research)\n",
    "* Additional COVID-19 research articles from a corpus\n",
    "  maintained by the WHO\n",
    "* bioRxiv and medRxiv pre-prints using the same query\n",
    "  as PMC (COVID-19 and coronavirus research)\n",
    "\n",
    "We also provide a comprehensive metadata file of 29,000\n",
    "coronavirus and COVID-19 research articles with links to PubMed,\n",
    "Microsoft Academic and the WHO COVID-19 database of\n",
    "publications (includes articles without open access full text).\n",
    "\n",
    "We recommend using metadata from the comprehensive file when\n",
    "available, instead of parsed metadata in the dataset. Please note\n",
    "the dataset may contain multiple entries for individual PMC IDs\n",
    "in cases when supplementary materials are available.\n",
    "\n",
    "This repository is linked to the WHO database of publications on\n",
    "coronavirus disease and other resources, such as Microsoft\n",
    "Academic Graph, PubMed, and Semantic Scholar. A coalition\n",
    "including the Chan Zuckerberg Initiative, Georgetown University’s\n",
    "Center for Security and Emerging Technology, Microsoft Research,\n",
    "and the National Library of Medicine of the National Institutes\n",
    "of Health came together to provide this service. We also thank\n",
    "and acknowledge Unpaywall for providing open access license\n",
    "information for portions of the dataset.\n",
    "\n",
    "Citation:\n",
    "\n",
    "When including CORD-19 data in a publication or redistribution,\n",
    "please cite the dataset as follows:\n",
    "\n",
    "In bibliography:\n",
    "\n",
    "COVID-19 Open Research Dataset (CORD-19). 2020. Version 2020-03-13. \n",
    "Retrieved from https://pages.semanticscholar.org/coronavirus-research. \n",
    "Accessed YYYY-MM-DD. doi:10.5281/zenodo.3715506\n",
    "\n",
    "In text:\n",
    "\n",
    "(CORD-19, 2020)\n",
    "\n",
    "The Allen Institute for AI and particularly the Semantic Scholar\n",
    "team will continue to provide updates to this dataset as the\n",
    "situation evolves and new research is released.\n",
    "\n",
    "Contribute to CORD-19\n",
    "\n",
    "To maximize impact and increase full text available to the global\n",
    "research community, we are actively encouraging publishers to\n",
    "make their research content openly available for AI projects like\n",
    "this that benefit the common good. If you’re a publisher\n",
    "interested in contributing to the CORD-19 corpus, please contact\n",
    "partnerships@allenai.org.\n",
    "'''"
   ]
  },
  {
   "cell_type": "code",
   "execution_count": 9,
   "metadata": {},
   "outputs": [],
   "source": [
    "dsrc.add_metadata(contents=license_txt, kind='LICENSE')\n",
    "dsrc.add_metadata(contents=readme_txt, kind='DESCR')\n"
   ]
  },
  {
   "cell_type": "code",
   "execution_count": 10,
   "metadata": {},
   "outputs": [
    {
     "name": "stderr",
     "output_type": "stream",
     "text": [
      "2020-03-19 16:04:17,501 - fetch - DEBUG - `file_name` not specified. Inferring from URL: comm_use_subset.tar.gz\n",
      "2020-03-19 16:04:17,502 - fetch - DEBUG - `file_name` not specified. Inferring from URL: noncomm_use_subset.tar.gz\n",
      "2020-03-19 16:04:17,503 - fetch - DEBUG - `file_name` not specified. Inferring from URL: pmc_custom_license.tar.gz\n",
      "2020-03-19 16:04:17,504 - fetch - DEBUG - `file_name` not specified. Inferring from URL: biorxiv_medrxiv.tar.gz\n",
      "2020-03-19 16:04:17,505 - fetch - DEBUG - `file_name` not specified. Inferring from URL: all_sources_metadata_2020-03-13.csv\n",
      "2020-03-19 16:04:17,506 - fetch - DEBUG - `file_name` not specified. Inferring from URL: all_sources_metadata_2020-03-13.readme\n"
     ]
    }
   ],
   "source": [
    "dsrc.add_url('https://ai2-semanticscholar-cord-19.s3-us-west-2.amazonaws.com/2020-03-13/comm_use_subset.tar.gz',\n",
    "             name='commercial use subset')\n",
    "\n",
    "dsrc.add_url('https://ai2-semanticscholar-cord-19.s3-us-west-2.amazonaws.com/2020-03-13/noncomm_use_subset.tar.gz',\n",
    "             name='non-commmercial use subset')\n",
    "dsrc.add_url('https://ai2-semanticscholar-cord-19.s3-us-west-2.amazonaws.com/2020-03-13/pmc_custom_license.tar.gz',\n",
    "             name='PMC custom license')\n",
    "dsrc.add_url('https://ai2-semanticscholar-cord-19.s3-us-west-2.amazonaws.com/2020-03-13/biorxiv_medrxiv.tar.gz',\n",
    "             name='bioRxiv and medRxiv')\n",
    "dsrc.add_url('https://ai2-semanticscholar-cord-19.s3-us-west-2.amazonaws.com/2020-03-13/all_sources_metadata_2020-03-13.csv',\n",
    "             name='metadata file')\n",
    "dsrc.add_url('https://ai2-semanticscholar-cord-19.s3-us-west-2.amazonaws.com/2020-03-13/all_sources_metadata_2020-03-13.readme',\n",
    "             name='readme')"
   ]
  },
  {
   "cell_type": "code",
   "execution_count": 12,
   "metadata": {},
   "outputs": [
    {
     "name": "stderr",
     "output_type": "stream",
     "text": [
      "2020-03-19 16:04:32,780 - datasets - DEBUG - Fetching covid_nlp_20200319.license: status:True\n",
      "2020-03-19 16:04:32,781 - datasets - DEBUG - Fetching covid_nlp_20200319.readme: status:True\n",
      "2020-03-19 16:09:48,389 - fetch - DEBUG - Retrieved comm_use_subset.tar.gz (hash sha1:53da7c057c32482ba91a751687b51d04ded673c9)\n",
      "2020-03-19 16:09:48,405 - datasets - DEBUG - Fetching comm_use_subset.tar.gz: status:200\n",
      "2020-03-19 16:10:41,080 - fetch - DEBUG - Retrieved noncomm_use_subset.tar.gz (hash sha1:752569f53bad8d242cdacec4e887b4c0334ea752)\n",
      "2020-03-19 16:10:41,085 - datasets - DEBUG - Fetching noncomm_use_subset.tar.gz: status:200\n",
      "2020-03-19 16:11:14,218 - fetch - DEBUG - Retrieved pmc_custom_license.tar.gz (hash sha1:c6795a4d40744b68066323e16d7830c737ebfa1b)\n",
      "2020-03-19 16:11:14,223 - datasets - DEBUG - Fetching pmc_custom_license.tar.gz: status:200\n",
      "2020-03-19 16:11:36,521 - fetch - DEBUG - Retrieved biorxiv_medrxiv.tar.gz (hash sha1:351af4f267a30a667952b29b9314edca6131dd1d)\n",
      "2020-03-19 16:11:36,523 - datasets - DEBUG - Fetching biorxiv_medrxiv.tar.gz: status:200\n",
      "2020-03-19 16:12:40,400 - fetch - DEBUG - Retrieved all_sources_metadata_2020-03-13.csv (hash sha1:72856c9bd4c79dd18720d07e69989143a3714fbe)\n",
      "2020-03-19 16:12:40,407 - datasets - DEBUG - Fetching all_sources_metadata_2020-03-13.csv: status:200\n",
      "2020-03-19 16:12:40,821 - fetch - DEBUG - Retrieved all_sources_metadata_2020-03-13.readme (hash sha1:4920c74bcddc0095c93fc2287843d3f6104dd472)\n",
      "2020-03-19 16:12:40,822 - datasets - DEBUG - Fetching all_sources_metadata_2020-03-13.readme: status:200\n"
     ]
    },
    {
     "data": {
      "text/plain": [
       "True"
      ]
     },
     "execution_count": 12,
     "metadata": {},
     "output_type": "execute_result"
    }
   ],
   "source": [
    "dsrc.fetch()"
   ]
  },
  {
   "cell_type": "markdown",
   "metadata": {},
   "source": [
    "## Save the datasource"
   ]
  },
  {
   "cell_type": "code",
   "execution_count": 13,
   "metadata": {},
   "outputs": [],
   "source": [
    "from src import workflow"
   ]
  },
  {
   "cell_type": "code",
   "execution_count": 14,
   "metadata": {},
   "outputs": [
    {
     "name": "stderr",
     "output_type": "stream",
     "text": [
      "2020-03-20 10:35:24,597 - datasets - WARNING - No dataset file found: datasources.json\n"
     ]
    },
    {
     "data": {
      "text/plain": [
       "['covid_nlp_20200319']"
      ]
     },
     "execution_count": 14,
     "metadata": {},
     "output_type": "execute_result"
    }
   ],
   "source": [
    "workflow.add_datasource(dsrc)\n",
    "workflow.available_datasources()"
   ]
  },
  {
   "cell_type": "code",
   "execution_count": 18,
   "metadata": {},
   "outputs": [],
   "source": [
    "c = paths['catalog_path']"
   ]
  },
  {
   "cell_type": "code",
   "execution_count": 20,
   "metadata": {},
   "outputs": [
    {
     "name": "stdout",
     "output_type": "stream",
     "text": [
      "{\r\n",
      "  \"covid_nlp_20200319\": {\r\n",
      "    \"dataset_dir\": \"/Users/kjell/Documents/devel/git/timc/covid_nlp/data/raw\",\r\n",
      "    \"load_function_args\": [],\r\n",
      "    \"load_function_kwargs\": {},\r\n",
      "    \"load_function_module\": \"src.data.utils\",\r\n",
      "    \"load_function_name\": \"process_dataset_default\",\r\n",
      "    \"name\": \"covid_nlp_20200319\",\r\n",
      "    \"url_list\": [\r\n",
      "      {\r\n",
      "        \"contents\": \"COVID DATASET LICENSE AGREEMENT\\nBy accessing, downloading or otherwise using any Journals, Articles, Metadata, Abstracts,\\nFull-Texts or any other content types provided in the COVID-19 Open Research Dataset (CORD-19)\\nDatabase (the \\u201cData\\u201d), You expressly acknowledge and agree to the following:\\n\\n* AI2 grants to You a worldwide, perpetual, non-exclusive, non-transferable\\n  license to use and make derivatives of the Data for text and data mining only.\\n\\n* AI2 warrants that it has the right to make the Data available to You as\\n  provided for in and subject to this Agreement and in accordance with applicable law. \\n  EXCEPT FOR THE LIMITED WARRANTY IN THIS SECTION, THE DATA IS PROVIDED \\u201cAS IS\\u201d, WITHOUT ANY\\n  WARRANTIES OF ANY KIND. \\n\\n* You agree to comply with all applicable local, state, national, and international laws\\n  and regulations with respect to AI2\\u2019s license and Youruse of the Data.\\n\\n* Data provided by AI2 is from copyrighted sources of the respective copyright holders.\\n  You are solely responsible for Your and Your users\\u2019 compliance with any copyright, patent\\n  or trademark restrictions and are referred to the copyright, patent or trademark notices\\n  appearing in the original sources, all of which are hereby incorporated by reference.\\n\",\r\n",
      "        \"fetch_action\": \"create\",\r\n",
      "        \"file_name\": \"covid_nlp_20200319.license\",\r\n",
      "        \"hash_value\": \"26a71b2c70b8097c8b1c66ccdd89af704dccc149\",\r\n",
      "        \"name\": \"LICENSE\",\r\n",
      "        \"unpack_action\": \"copy\"\r\n",
      "      },\r\n",
      "      {\r\n",
      "        \"contents\": \"COVID-19 Open Research Dataset (CORD-19)\\nParticipate in the CORD-19 Challenge\\n\\nKaggle is hosting the COVID-19 Open Research Dataset Challenge, a\\nseries of important questions designed to inspire the community\\nto use CORD-19 to find new insights about the COVID-19 pandemic\\nincluding the natural history, transmission, and diagnostics for\\nthe virus, management measures at the human-animal interface,\\nlessons from previous epidemiological studies, and more.\\nDownload CORD-19\\n\\nBy downloading this dataset you are agreeing to the Dataset\\nLicense. Specific licensing information for individual articles\\nin the dataset is available in the metadata file.\\n\\nAdditional licensing information is available on the PMC website,\\nmedRxiv website and bioRxiv website.\\n\\nLatest release contains papers up until 2020-03-13 with over\\n13,000 full text articles.\\n\\nDownload here:\\n\\n    Commercial use subset (includes PMC content) -- 9000 papers, 186Mb\\n    Non-commercial use subset (includes PMC content) -- 1973 papers, 36Mb\\n    PMC custom license subset -- 1426 papers, 19Mb\\n    bioRxiv/medRxiv subset (pre-prints that are not peer reviewed) -- 803 papers, 13Mb\\n    Metadata file -- 47Mb\\n    Readme\\n\\nEach paper is represented as a single JSON object. The schema is\\navailable here.\\n\\nDescription:\\n\\nThe dataset contains all COVID-19 and coronavirus-related\\nresearch (e.g. SARS, MERS, etc.) from the following sources:\\n\\n* PubMed's PMC open access corpus using this query\\n  (COVID-19 and coronavirus research)\\n* Additional COVID-19 research articles from a corpus\\n  maintained by the WHO\\n* bioRxiv and medRxiv pre-prints using the same query\\n  as PMC (COVID-19 and coronavirus research)\\n\\nWe also provide a comprehensive metadata file of 29,000\\ncoronavirus and COVID-19 research articles with links to PubMed,\\nMicrosoft Academic and the WHO COVID-19 database of\\npublications (includes articles without open access full text).\\n\\nWe recommend using metadata from the comprehensive file when\\navailable, instead of parsed metadata in the dataset. Please note\\nthe dataset may contain multiple entries for individual PMC IDs\\nin cases when supplementary materials are available.\\n\\nThis repository is linked to the WHO database of publications on\\ncoronavirus disease and other resources, such as Microsoft\\nAcademic Graph, PubMed, and Semantic Scholar. A coalition\\nincluding the Chan Zuckerberg Initiative, Georgetown University\\u2019s\\nCenter for Security and Emerging Technology, Microsoft Research,\\nand the National Library of Medicine of the National Institutes\\nof Health came together to provide this service. We also thank\\nand acknowledge Unpaywall for providing open access license\\ninformation for portions of the dataset.\\n\\nCitation:\\n\\nWhen including CORD-19 data in a publication or redistribution,\\nplease cite the dataset as follows:\\n\\nIn bibliography:\\n\\nCOVID-19 Open Research Dataset (CORD-19). 2020. Version 2020-03-13. \\nRetrieved from https://pages.semanticscholar.org/coronavirus-research. \\nAccessed YYYY-MM-DD. doi:10.5281/zenodo.3715506\\n\\nIn text:\\n\\n(CORD-19, 2020)\\n\\nThe Allen Institute for AI and particularly the Semantic Scholar\\nteam will continue to provide updates to this dataset as the\\nsituation evolves and new research is released.\\n\\nContribute to CORD-19\\n\\nTo maximize impact and increase full text available to the global\\nresearch community, we are actively encouraging publishers to\\nmake their research content openly available for AI projects like\\nthis that benefit the common good. If you\\u2019re a publisher\\ninterested in contributing to the CORD-19 corpus, please contact\\npartnerships@allenai.org.\\n\",\r\n",
      "        \"fetch_action\": \"create\",\r\n",
      "        \"file_name\": \"covid_nlp_20200319.readme\",\r\n",
      "        \"hash_value\": \"3dcae4910b63653ff27569d34617f3f97ecb5761\",\r\n",
      "        \"name\": \"DESCR\",\r\n",
      "        \"unpack_action\": \"copy\"\r\n",
      "      },\r\n",
      "      {\r\n",
      "        \"fetch_action\": \"url\",\r\n",
      "        \"file_name\": \"comm_use_subset.tar.gz\",\r\n",
      "        \"hash_type\": \"sha1\",\r\n",
      "        \"hash_value\": \"53da7c057c32482ba91a751687b51d04ded673c9\",\r\n",
      "        \"name\": \"commercial use subset\",\r\n",
      "        \"url\": \"https://ai2-semanticscholar-cord-19.s3-us-west-2.amazonaws.com/2020-03-13/comm_use_subset.tar.gz\"\r\n",
      "      },\r\n",
      "      {\r\n",
      "        \"fetch_action\": \"url\",\r\n",
      "        \"file_name\": \"noncomm_use_subset.tar.gz\",\r\n",
      "        \"hash_type\": \"sha1\",\r\n",
      "        \"hash_value\": \"752569f53bad8d242cdacec4e887b4c0334ea752\",\r\n",
      "        \"name\": \"non-commmercial use subset\",\r\n",
      "        \"url\": \"https://ai2-semanticscholar-cord-19.s3-us-west-2.amazonaws.com/2020-03-13/noncomm_use_subset.tar.gz\"\r\n",
      "      },\r\n",
      "      {\r\n",
      "        \"fetch_action\": \"url\",\r\n",
      "        \"file_name\": \"pmc_custom_license.tar.gz\",\r\n",
      "        \"hash_type\": \"sha1\",\r\n",
      "        \"hash_value\": \"c6795a4d40744b68066323e16d7830c737ebfa1b\",\r\n",
      "        \"name\": \"PMC custom license\",\r\n",
      "        \"url\": \"https://ai2-semanticscholar-cord-19.s3-us-west-2.amazonaws.com/2020-03-13/pmc_custom_license.tar.gz\"\r\n",
      "      },\r\n",
      "      {\r\n",
      "        \"fetch_action\": \"url\",\r\n",
      "        \"file_name\": \"biorxiv_medrxiv.tar.gz\",\r\n",
      "        \"hash_type\": \"sha1\",\r\n",
      "        \"hash_value\": \"351af4f267a30a667952b29b9314edca6131dd1d\",\r\n",
      "        \"name\": \"bioRxiv and medRxiv\",\r\n",
      "        \"url\": \"https://ai2-semanticscholar-cord-19.s3-us-west-2.amazonaws.com/2020-03-13/biorxiv_medrxiv.tar.gz\"\r\n",
      "      },\r\n",
      "      {\r\n",
      "        \"fetch_action\": \"url\",\r\n",
      "        \"file_name\": \"all_sources_metadata_2020-03-13.csv\",\r\n",
      "        \"hash_type\": \"sha1\",\r\n",
      "        \"hash_value\": \"72856c9bd4c79dd18720d07e69989143a3714fbe\",\r\n",
      "        \"name\": \"metadata file\",\r\n",
      "        \"url\": \"https://ai2-semanticscholar-cord-19.s3-us-west-2.amazonaws.com/2020-03-13/all_sources_metadata_2020-03-13.csv\"\r\n",
      "      },\r\n",
      "      {\r\n",
      "        \"fetch_action\": \"url\",\r\n",
      "        \"file_name\": \"all_sources_metadata_2020-03-13.readme\",\r\n",
      "        \"hash_type\": \"sha1\",\r\n",
      "        \"hash_value\": \"4920c74bcddc0095c93fc2287843d3f6104dd472\",\r\n",
      "        \"name\": \"readme\",\r\n",
      "        \"url\": \"https://ai2-semanticscholar-cord-19.s3-us-west-2.amazonaws.com/2020-03-13/all_sources_metadata_2020-03-13.readme\"\r\n",
      "      }\r\n",
      "    ]\r\n",
      "  }\r\n",
      "}"
     ]
    }
   ],
   "source": [
    "!cat $c/datasources.json"
   ]
  },
  {
   "cell_type": "code",
   "execution_count": null,
   "metadata": {},
   "outputs": [],
   "source": []
  }
 ],
 "metadata": {
  "kernelspec": {
   "display_name": "Python 3",
   "language": "python",
   "name": "python3"
  },
  "language_info": {
   "codemirror_mode": {
    "name": "ipython",
    "version": 3
   },
   "file_extension": ".py",
   "mimetype": "text/x-python",
   "name": "python",
   "nbconvert_exporter": "python",
   "pygments_lexer": "ipython3",
   "version": "3.7.6"
  }
 },
 "nbformat": 4,
 "nbformat_minor": 4
}
