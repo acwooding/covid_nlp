{
 "cells": [
  {
   "cell_type": "markdown",
   "metadata": {},
   "source": [
    "If you haven't yet, start by setting up your environment and datasets by following the instructions in the README. It should be something like:\n",
    "* `make create_environment`\n",
    "* `conda activate covid_nlp`\n",
    "* `make update_environment`\n",
    "* `make data`\n",
    "\n",
    "Several common packages that you may want to use (e.g. UMAP, HDBSCAN, enstop, sklearn) have already been added to the `covid_nlp` environment via `environment.yml`. To add more, edit that file and do a:\n",
    "  ` make update_environment`"
   ]
  },
  {
   "cell_type": "code",
   "execution_count": 1,
   "metadata": {},
   "outputs": [],
   "source": [
    "# Quick cell to make jupyter notebook use the full screen width\n",
    "from IPython.core.display import display, HTML\n",
    "display(HTML(\"<style>.container { width:100% !important; }</style>\"))"
   ]
  },
  {
   "cell_type": "code",
   "execution_count": 2,
   "metadata": {},
   "outputs": [],
   "source": [
    "# Automatically pick up code changes in the `src` module\n",
    "%load_ext autoreload\n",
    "%autoreload 2"
   ]
  },
  {
   "cell_type": "code",
   "execution_count": 3,
   "metadata": {},
   "outputs": [],
   "source": [
    "import json\n",
    "import pandas as pd"
   ]
  },
  {
   "cell_type": "code",
   "execution_count": 4,
   "metadata": {},
   "outputs": [],
   "source": [
    "# Useful imports from easydata\n",
    "from src import paths\n",
    "from src.data import Dataset\n",
    "from src import workflow"
   ]
  },
  {
   "cell_type": "markdown",
   "metadata": {},
   "source": [
    "## Load up the dataset\n",
    "\n",
    "The metadata has been augmented with where the files can be found relative to `paths[\"interim_data_path\"]`"
   ]
  },
  {
   "cell_type": "code",
   "execution_count": 5,
   "metadata": {},
   "outputs": [],
   "source": [
    "#paths['interim_data_path']"
   ]
  },
  {
   "cell_type": "code",
   "execution_count": 6,
   "metadata": {},
   "outputs": [
    {
     "data": {
      "text/plain": [
       "['covid_nlp_20200319']"
      ]
     },
     "execution_count": 6,
     "metadata": {},
     "output_type": "execute_result"
    }
   ],
   "source": [
    "workflow.available_datasets()"
   ]
  },
  {
   "cell_type": "markdown",
   "metadata": {},
   "source": [
    "If the previous cell returned an empty list, go back and re-run `make data` as described at the top of this notebook."
   ]
  },
  {
   "cell_type": "code",
   "execution_count": 7,
   "metadata": {},
   "outputs": [],
   "source": [
    "ds_name = 'covid_nlp_20200319'"
   ]
  },
  {
   "cell_type": "code",
   "execution_count": 8,
   "metadata": {},
   "outputs": [],
   "source": [
    "# Load the dataset\n",
    "meta_ds = Dataset.load(ds_name)"
   ]
  },
  {
   "cell_type": "code",
   "execution_count": 9,
   "metadata": {},
   "outputs": [
    {
     "name": "stdout",
     "output_type": "stream",
     "text": [
      "COVID-19 Open Research Dataset (CORD-19)\n",
      "Participate in the CORD-19 Challenge\n",
      "\n",
      "Kaggle is hosting the COVID-19 Open Research Dataset Challenge, a\n",
      "series of important questions designed to inspire the community\n",
      "to use CORD-19 to find new insights about the COVID-19 pandemic\n",
      "including the natural history, transmission, and diagnostics for\n",
      "the virus, management measures at the human-animal interface,\n",
      "lessons from previous epidemiological studies, and more.\n",
      "\n"
     ]
    }
   ],
   "source": [
    "print(meta_ds.DESCR[:457])"
   ]
  },
  {
   "cell_type": "code",
   "execution_count": 10,
   "metadata": {},
   "outputs": [
    {
     "data": {
      "text/html": [
       "<div>\n",
       "<style scoped>\n",
       "    .dataframe tbody tr th:only-of-type {\n",
       "        vertical-align: middle;\n",
       "    }\n",
       "\n",
       "    .dataframe tbody tr th {\n",
       "        vertical-align: top;\n",
       "    }\n",
       "\n",
       "    .dataframe thead th {\n",
       "        text-align: right;\n",
       "    }\n",
       "</style>\n",
       "<table border=\"1\" class=\"dataframe\">\n",
       "  <thead>\n",
       "    <tr style=\"text-align: right;\">\n",
       "      <th></th>\n",
       "      <th>sha</th>\n",
       "      <th>source_x</th>\n",
       "      <th>title</th>\n",
       "      <th>doi</th>\n",
       "      <th>pmcid</th>\n",
       "      <th>pubmed_id</th>\n",
       "      <th>license</th>\n",
       "      <th>abstract</th>\n",
       "      <th>publish_time</th>\n",
       "      <th>authors</th>\n",
       "      <th>journal</th>\n",
       "      <th>Microsoft Academic Paper ID</th>\n",
       "      <th>WHO #Covidence</th>\n",
       "      <th>has_full_text</th>\n",
       "      <th>file_type</th>\n",
       "      <th>path</th>\n",
       "    </tr>\n",
       "  </thead>\n",
       "  <tbody>\n",
       "    <tr>\n",
       "      <th>0</th>\n",
       "      <td>c630ebcdf30652f0422c3ec12a00b50241dc9bd9</td>\n",
       "      <td>CZI</td>\n",
       "      <td>Angiotensin-converting enzyme 2 (ACE2) as a SA...</td>\n",
       "      <td>10.1007/s00134-020-05985-9</td>\n",
       "      <td>NaN</td>\n",
       "      <td>32125455</td>\n",
       "      <td>cc-by-nc</td>\n",
       "      <td>NaN</td>\n",
       "      <td>2020</td>\n",
       "      <td>Zhang, Haibo; Penninger, Josef M.; Li, Yimin; ...</td>\n",
       "      <td>Intensive Care Med</td>\n",
       "      <td>2002765492</td>\n",
       "      <td>#3252</td>\n",
       "      <td>True</td>\n",
       "      <td>noncomm_use_subset</td>\n",
       "      <td>noncomm_use_subset/c630ebcdf30652f0422c3ec12a0...</td>\n",
       "    </tr>\n",
       "    <tr>\n",
       "      <th>1</th>\n",
       "      <td>53eccda7977a31e3d0f565c884da036b1e85438e</td>\n",
       "      <td>CZI</td>\n",
       "      <td>Comparative genetic analysis of the novel coro...</td>\n",
       "      <td>10.1038/s41421-020-0147-1</td>\n",
       "      <td>NaN</td>\n",
       "      <td>NaN</td>\n",
       "      <td>cc-by</td>\n",
       "      <td>NaN</td>\n",
       "      <td>2020</td>\n",
       "      <td>Cao, Yanan; Li, Lin; Feng, Zhimin; Wan, Shengq...</td>\n",
       "      <td>Cell Discovery</td>\n",
       "      <td>3003430844</td>\n",
       "      <td>#1861</td>\n",
       "      <td>True</td>\n",
       "      <td>comm_use_subset</td>\n",
       "      <td>comm_use_subset/53eccda7977a31e3d0f565c884da03...</td>\n",
       "    </tr>\n",
       "    <tr>\n",
       "      <th>2</th>\n",
       "      <td>53eccda7977a31e3d0f565c884da036b1e85438e</td>\n",
       "      <td>PMC</td>\n",
       "      <td>Comparative genetic analysis of the novel coro...</td>\n",
       "      <td>http://dx.doi.org/10.1038/s41421-020-0147-1</td>\n",
       "      <td>PMC7040011</td>\n",
       "      <td>32133153</td>\n",
       "      <td>CC BY</td>\n",
       "      <td>NaN</td>\n",
       "      <td>2020 Feb 24</td>\n",
       "      <td>['Cao, Yanan', 'Li, Lin', 'Feng, Zhimin', 'Wan...</td>\n",
       "      <td>Cell Discov</td>\n",
       "      <td>NaN</td>\n",
       "      <td>NaN</td>\n",
       "      <td>True</td>\n",
       "      <td>comm_use_subset</td>\n",
       "      <td>comm_use_subset/53eccda7977a31e3d0f565c884da03...</td>\n",
       "    </tr>\n",
       "    <tr>\n",
       "      <th>3</th>\n",
       "      <td>210a892deb1c61577f6fba58505fd65356ce6636</td>\n",
       "      <td>CZI</td>\n",
       "      <td>Incubation Period and Other Epidemiological Ch...</td>\n",
       "      <td>10.3390/jcm9020538</td>\n",
       "      <td>NaN</td>\n",
       "      <td>NaN</td>\n",
       "      <td>cc-by</td>\n",
       "      <td>The geographic spread of 2019 novel coronaviru...</td>\n",
       "      <td>2020</td>\n",
       "      <td>Linton, M. Natalie; Kobayashi, Tetsuro; Yang, ...</td>\n",
       "      <td>Journal of Clinical Medicine</td>\n",
       "      <td>3006065484</td>\n",
       "      <td>#1043</td>\n",
       "      <td>True</td>\n",
       "      <td>comm_use_subset</td>\n",
       "      <td>comm_use_subset/210a892deb1c61577f6fba58505fd6...</td>\n",
       "    </tr>\n",
       "    <tr>\n",
       "      <th>4</th>\n",
       "      <td>e3b40cc8e0e137c416b4a2273a4dca94ae8178cc</td>\n",
       "      <td>CZI</td>\n",
       "      <td>Characteristics of and Public Health Responses...</td>\n",
       "      <td>10.3390/jcm9020575</td>\n",
       "      <td>NaN</td>\n",
       "      <td>32093211</td>\n",
       "      <td>cc-by</td>\n",
       "      <td>In December 2019, cases of unidentified pneumo...</td>\n",
       "      <td>2020</td>\n",
       "      <td>Deng, Sheng-Qun; Peng, Hong-Juan</td>\n",
       "      <td>J Clin Med</td>\n",
       "      <td>177663115</td>\n",
       "      <td>#1999</td>\n",
       "      <td>True</td>\n",
       "      <td>comm_use_subset</td>\n",
       "      <td>comm_use_subset/e3b40cc8e0e137c416b4a2273a4dca...</td>\n",
       "    </tr>\n",
       "  </tbody>\n",
       "</table>\n",
       "</div>"
      ],
      "text/plain": [
       "                                        sha source_x  \\\n",
       "0  c630ebcdf30652f0422c3ec12a00b50241dc9bd9      CZI   \n",
       "1  53eccda7977a31e3d0f565c884da036b1e85438e      CZI   \n",
       "2  53eccda7977a31e3d0f565c884da036b1e85438e      PMC   \n",
       "3  210a892deb1c61577f6fba58505fd65356ce6636      CZI   \n",
       "4  e3b40cc8e0e137c416b4a2273a4dca94ae8178cc      CZI   \n",
       "\n",
       "                                               title  \\\n",
       "0  Angiotensin-converting enzyme 2 (ACE2) as a SA...   \n",
       "1  Comparative genetic analysis of the novel coro...   \n",
       "2  Comparative genetic analysis of the novel coro...   \n",
       "3  Incubation Period and Other Epidemiological Ch...   \n",
       "4  Characteristics of and Public Health Responses...   \n",
       "\n",
       "                                           doi       pmcid pubmed_id  \\\n",
       "0                   10.1007/s00134-020-05985-9         NaN  32125455   \n",
       "1                    10.1038/s41421-020-0147-1         NaN       NaN   \n",
       "2  http://dx.doi.org/10.1038/s41421-020-0147-1  PMC7040011  32133153   \n",
       "3                           10.3390/jcm9020538         NaN       NaN   \n",
       "4                           10.3390/jcm9020575         NaN  32093211   \n",
       "\n",
       "    license                                           abstract publish_time  \\\n",
       "0  cc-by-nc                                                NaN         2020   \n",
       "1     cc-by                                                NaN         2020   \n",
       "2     CC BY                                                NaN  2020 Feb 24   \n",
       "3     cc-by  The geographic spread of 2019 novel coronaviru...         2020   \n",
       "4     cc-by  In December 2019, cases of unidentified pneumo...         2020   \n",
       "\n",
       "                                             authors  \\\n",
       "0  Zhang, Haibo; Penninger, Josef M.; Li, Yimin; ...   \n",
       "1  Cao, Yanan; Li, Lin; Feng, Zhimin; Wan, Shengq...   \n",
       "2  ['Cao, Yanan', 'Li, Lin', 'Feng, Zhimin', 'Wan...   \n",
       "3  Linton, M. Natalie; Kobayashi, Tetsuro; Yang, ...   \n",
       "4                   Deng, Sheng-Qun; Peng, Hong-Juan   \n",
       "\n",
       "                        journal Microsoft Academic Paper ID WHO #Covidence  \\\n",
       "0            Intensive Care Med                  2002765492          #3252   \n",
       "1                Cell Discovery                  3003430844          #1861   \n",
       "2                   Cell Discov                         NaN            NaN   \n",
       "3  Journal of Clinical Medicine                  3006065484          #1043   \n",
       "4                    J Clin Med                   177663115          #1999   \n",
       "\n",
       "  has_full_text           file_type  \\\n",
       "0          True  noncomm_use_subset   \n",
       "1          True     comm_use_subset   \n",
       "2          True     comm_use_subset   \n",
       "3          True     comm_use_subset   \n",
       "4          True     comm_use_subset   \n",
       "\n",
       "                                                path  \n",
       "0  noncomm_use_subset/c630ebcdf30652f0422c3ec12a0...  \n",
       "1  comm_use_subset/53eccda7977a31e3d0f565c884da03...  \n",
       "2  comm_use_subset/53eccda7977a31e3d0f565c884da03...  \n",
       "3  comm_use_subset/210a892deb1c61577f6fba58505fd6...  \n",
       "4  comm_use_subset/e3b40cc8e0e137c416b4a2273a4dca...  "
      ]
     },
     "execution_count": 10,
     "metadata": {},
     "output_type": "execute_result"
    }
   ],
   "source": [
    "# The processed dataframe is the `data` method of this data source \n",
    "meta_df = meta_ds.data\n",
    "meta_df.head()"
   ]
  },
  {
   "cell_type": "markdown",
   "metadata": {},
   "source": [
    "## Basics on the dataset\n",
    "\n",
    "The JSON files given in the `path` column of the metadata dataframe are the papers in `json` format (as dicts)\n",
    "that include the following keys:\n",
    "* `paper_id`\n",
    "* `metadata`\n",
    "* `abstract`\n",
    "* `body_text`\n",
    "* `bib_entries`\n",
    "* `ref_entries`\n",
    "* `back_matter`\n",
    "\n",
    "where the `paper_id` is the sha hash from the medadata.\n",
    "\n",
    "For example:"
   ]
  },
  {
   "cell_type": "code",
   "execution_count": 11,
   "metadata": {},
   "outputs": [
    {
     "data": {
      "text/plain": [
       "dict_keys(['paper_id', 'metadata', 'abstract', 'body_text', 'bib_entries', 'ref_entries', 'back_matter'])"
      ]
     },
     "execution_count": 11,
     "metadata": {},
     "output_type": "execute_result"
    }
   ],
   "source": [
    "filename = paths['interim_data_path'] / ds_name / meta_df['path'][0]\n",
    "file = json.load(open(filename, 'rb'))\n",
    "file.keys()"
   ]
  },
  {
   "cell_type": "markdown",
   "metadata": {},
   "source": [
    "# Pre-processing data for various embeddings"
   ]
  },
  {
   "cell_type": "markdown",
   "metadata": {},
   "source": [
    "### Example 1: If you want to start with abstracts...\n",
    "e.g. if you want to reproduce the analysis in \n",
    "https://gitlab.com/ar2a/covid19-kaggle/-/blob/master/notebooks/gpclend_embed_abstracts.ipynb (you will be able to pick up this notebook from **Point ranking (will be used later)**) then do this:"
   ]
  },
  {
   "cell_type": "code",
   "execution_count": 12,
   "metadata": {},
   "outputs": [],
   "source": [
    "abstracts = meta_df.abstract.dropna()"
   ]
  },
  {
   "cell_type": "code",
   "execution_count": 13,
   "metadata": {},
   "outputs": [
    {
     "data": {
      "text/plain": [
       "3     The geographic spread of 2019 novel coronaviru...\n",
       "4     In December 2019, cases of unidentified pneumo...\n",
       "6     The basic reproduction number of an infectious...\n",
       "7     The initial cluster of severe pneumonia cases ...\n",
       "10    Cruise ships carry a large number of people in...\n",
       "Name: abstract, dtype: object"
      ]
     },
     "execution_count": 13,
     "metadata": {},
     "output_type": "execute_result"
    }
   ],
   "source": [
    "abstracts[:5]"
   ]
  },
  {
   "cell_type": "code",
   "execution_count": 14,
   "metadata": {},
   "outputs": [
    {
     "data": {
      "text/plain": [
       "26909"
      ]
     },
     "execution_count": 14,
     "metadata": {},
     "output_type": "execute_result"
    }
   ],
   "source": [
    "len(abstracts)"
   ]
  },
  {
   "cell_type": "markdown",
   "metadata": {},
   "source": [
    "## Example 2: If you want to split up documents by their sections...\n",
    "\n",
    "If you want to produce similar analyses to:\n",
    "* https://gitlab.com/ar2a/covid19-kaggle/-/blob/master/notebooks/mpfrane-scispacy-tokenization.ipynb (the processing below will take care of everything up to: **Apply scispacy tokenization**) \n",
    "* https://gitlab.com/ar2a/covid19-kaggle/-/blob/master/notebooks/top2vec_corona_dangel.ipynb (the processing below will take care of everything up to: **Train Top2Vec Model**)\n",
    "\n",
    "i.e. turn each section into its own row, and treat sections as their own documents for the purposes of embedding.\n",
    "\n",
    "Here we've written a custom processing function (a _data transformer_) called `create_section_df` that will take in the current dataset and produce a new, transformed dataset. "
   ]
  },
  {
   "cell_type": "code",
   "execution_count": 15,
   "metadata": {},
   "outputs": [],
   "source": [
    "from src.data.localdata import create_section_df"
   ]
  },
  {
   "cell_type": "code",
   "execution_count": 16,
   "metadata": {},
   "outputs": [
    {
     "name": "stdout",
     "output_type": "stream",
     "text": [
      "Help on function create_section_df in module src.data.localdata:\n",
      "\n",
      "create_section_df(df, unpack_dir=None, extract_dir='covid_nlp_20200319', min_tokens=200)\n",
      "    Dataset Transformer: extract individual sections from papers, returning one section per row\n",
      "    \n",
      "    Given a dataframe, df, formatted like the covid metadata augmented\n",
      "    dataset (e.g. covid_nlp_20200319), created a new dataframe where\n",
      "    each row is a section of a paper contained in `df` (for which a\n",
      "    full-text version exists).\n",
      "    \n",
      "    Parameters\n",
      "    ----------\n",
      "    df:\n",
      "        a metadata dataframe (.data from a metadata datasource)\n",
      "        with at least 'has_full_text' and 'path' fields.\n",
      "    extract_dir:\n",
      "        The name of the directory (relative to `unpack_dir`) the files have been unpacked into.\n",
      "    min_tokens:\n",
      "        Require sections to have at least `min_tokens` tokens to be included in this dataframe\n",
      "    unpack_dir:\n",
      "        The interim data directory. If None, it will use the\n",
      "        paths['interim_data_path']. Only pass this if you need to override the default.\n",
      "    \n",
      "    Returns\n",
      "    -------\n",
      "    section dataframe with columns: ['paper_id', 'title', 'abstract', 'section', 'text', 'token_counts']\n",
      "\n"
     ]
    }
   ],
   "source": [
    "help(create_section_df)"
   ]
  },
  {
   "cell_type": "code",
   "execution_count": 17,
   "metadata": {},
   "outputs": [],
   "source": [
    "# filter however you like based on the metadata. We'll just demo with the first 100 entries\n",
    "df = meta_df[:100]"
   ]
  },
  {
   "cell_type": "code",
   "execution_count": 18,
   "metadata": {},
   "outputs": [
    {
     "name": "stdout",
     "output_type": "stream",
     "text": [
      "CPU times: user 8.75 s, sys: 151 ms, total: 8.9 s\n",
      "Wall time: 9.01 s\n"
     ]
    }
   ],
   "source": [
    "%%time\n",
    "parsed_df = create_section_df(df)"
   ]
  },
  {
   "cell_type": "code",
   "execution_count": 19,
   "metadata": {},
   "outputs": [
    {
     "data": {
      "text/html": [
       "<div>\n",
       "<style scoped>\n",
       "    .dataframe tbody tr th:only-of-type {\n",
       "        vertical-align: middle;\n",
       "    }\n",
       "\n",
       "    .dataframe tbody tr th {\n",
       "        vertical-align: top;\n",
       "    }\n",
       "\n",
       "    .dataframe thead th {\n",
       "        text-align: right;\n",
       "    }\n",
       "</style>\n",
       "<table border=\"1\" class=\"dataframe\">\n",
       "  <thead>\n",
       "    <tr style=\"text-align: right;\">\n",
       "      <th></th>\n",
       "      <th>paper_id</th>\n",
       "      <th>title</th>\n",
       "      <th>abstract</th>\n",
       "      <th>section</th>\n",
       "      <th>text</th>\n",
       "      <th>token_counts</th>\n",
       "    </tr>\n",
       "  </thead>\n",
       "  <tbody>\n",
       "    <tr>\n",
       "      <th>0</th>\n",
       "      <td>c630ebcdf30652f0422c3ec12a00b50241dc9bd9</td>\n",
       "      <td>Angiotensin-converting enzyme 2 (ACE2) as a SA...</td>\n",
       "      <td></td>\n",
       "      <td>SARS-CoV-2 and severe acute respiratory syndro...</td>\n",
       "      <td>SARS-CoV-2 has been sequenced [3] . A phylogen...</td>\n",
       "      <td>209</td>\n",
       "    </tr>\n",
       "    <tr>\n",
       "      <th>1</th>\n",
       "      <td>c630ebcdf30652f0422c3ec12a00b50241dc9bd9</td>\n",
       "      <td>Angiotensin-converting enzyme 2 (ACE2) as a SA...</td>\n",
       "      <td></td>\n",
       "      <td>SARS-CoV-2 and severe acute respiratory syndro...</td>\n",
       "      <td>SARS-CoV-2 has been sequenced [3] . A phylogen...</td>\n",
       "      <td>338</td>\n",
       "    </tr>\n",
       "    <tr>\n",
       "      <th>2</th>\n",
       "      <td>c630ebcdf30652f0422c3ec12a00b50241dc9bd9</td>\n",
       "      <td>Angiotensin-converting enzyme 2 (ACE2) as a SA...</td>\n",
       "      <td></td>\n",
       "      <td>SARS-CoV-2 and severe acute respiratory syndro...</td>\n",
       "      <td>SARS-CoV-2 has been sequenced [3] . A phylogen...</td>\n",
       "      <td>421</td>\n",
       "    </tr>\n",
       "    <tr>\n",
       "      <th>3</th>\n",
       "      <td>c630ebcdf30652f0422c3ec12a00b50241dc9bd9</td>\n",
       "      <td>Angiotensin-converting enzyme 2 (ACE2) as a SA...</td>\n",
       "      <td></td>\n",
       "      <td>SARS-CoV-2 and severe acute respiratory syndro...</td>\n",
       "      <td>SARS-CoV-2 has been sequenced [3] . A phylogen...</td>\n",
       "      <td>421</td>\n",
       "    </tr>\n",
       "    <tr>\n",
       "      <th>4</th>\n",
       "      <td>c630ebcdf30652f0422c3ec12a00b50241dc9bd9</td>\n",
       "      <td>Angiotensin-converting enzyme 2 (ACE2) as a SA...</td>\n",
       "      <td></td>\n",
       "      <td>Enrichment distribution of ACE2 receptor in hu...</td>\n",
       "      <td>A key question is why the lung appears to be t...</td>\n",
       "      <td>292</td>\n",
       "    </tr>\n",
       "  </tbody>\n",
       "</table>\n",
       "</div>"
      ],
      "text/plain": [
       "                                   paper_id  \\\n",
       "0  c630ebcdf30652f0422c3ec12a00b50241dc9bd9   \n",
       "1  c630ebcdf30652f0422c3ec12a00b50241dc9bd9   \n",
       "2  c630ebcdf30652f0422c3ec12a00b50241dc9bd9   \n",
       "3  c630ebcdf30652f0422c3ec12a00b50241dc9bd9   \n",
       "4  c630ebcdf30652f0422c3ec12a00b50241dc9bd9   \n",
       "\n",
       "                                               title abstract  \\\n",
       "0  Angiotensin-converting enzyme 2 (ACE2) as a SA...            \n",
       "1  Angiotensin-converting enzyme 2 (ACE2) as a SA...            \n",
       "2  Angiotensin-converting enzyme 2 (ACE2) as a SA...            \n",
       "3  Angiotensin-converting enzyme 2 (ACE2) as a SA...            \n",
       "4  Angiotensin-converting enzyme 2 (ACE2) as a SA...            \n",
       "\n",
       "                                             section  \\\n",
       "0  SARS-CoV-2 and severe acute respiratory syndro...   \n",
       "1  SARS-CoV-2 and severe acute respiratory syndro...   \n",
       "2  SARS-CoV-2 and severe acute respiratory syndro...   \n",
       "3  SARS-CoV-2 and severe acute respiratory syndro...   \n",
       "4  Enrichment distribution of ACE2 receptor in hu...   \n",
       "\n",
       "                                                text  token_counts  \n",
       "0  SARS-CoV-2 has been sequenced [3] . A phylogen...           209  \n",
       "1  SARS-CoV-2 has been sequenced [3] . A phylogen...           338  \n",
       "2  SARS-CoV-2 has been sequenced [3] . A phylogen...           421  \n",
       "3  SARS-CoV-2 has been sequenced [3] . A phylogen...           421  \n",
       "4  A key question is why the lung appears to be t...           292  "
      ]
     },
     "execution_count": 19,
     "metadata": {},
     "output_type": "execute_result"
    }
   ],
   "source": [
    "parsed_df.head()"
   ]
  },
  {
   "cell_type": "code",
   "execution_count": null,
   "metadata": {},
   "outputs": [],
   "source": []
  }
 ],
 "metadata": {
  "kernelspec": {
   "display_name": "Python [conda env:covid_nlp]",
   "language": "python",
   "name": "conda-env-covid_nlp-py"
  },
  "language_info": {
   "codemirror_mode": {
    "name": "ipython",
    "version": 3
   },
   "file_extension": ".py",
   "mimetype": "text/x-python",
   "name": "python",
   "nbconvert_exporter": "python",
   "pygments_lexer": "ipython3",
   "version": "3.7.6"
  }
 },
 "nbformat": 4,
 "nbformat_minor": 4
}
