{
 "cells": [
  {
   "cell_type": "markdown",
   "metadata": {},
   "source": [
    "If you haven't yet, start by setting up your environment and datasets by following the instructions in the README. It should be something like:\n",
    "* `make create_environment`\n",
    "* `conda activate covid_nlp`\n",
    "* `make update_environment`\n",
    "* `make data`\n",
    "\n",
    "A bunch of packages that you may want to use have already been added to the `covid_nlp` environment."
   ]
  },
  {
   "cell_type": "code",
   "execution_count": 1,
   "metadata": {},
   "outputs": [
    {
     "data": {
      "text/html": [
       "<style>.container { width:100% !important; }</style>"
      ],
      "text/plain": [
       "<IPython.core.display.HTML object>"
      ]
     },
     "metadata": {},
     "output_type": "display_data"
    }
   ],
   "source": [
    "#Quick cell to make jupyter notebook use the full screen wi\"dth\n",
    "from IPython.core.display import display, HTML\n",
    "display(HTML(\"<style>.container { width:100% !important; }</style>\"))"
   ]
  },
  {
   "cell_type": "code",
   "execution_count": 2,
   "metadata": {},
   "outputs": [],
   "source": [
    "%load_ext autoreload\n",
    "%autoreload 2"
   ]
  },
  {
   "cell_type": "code",
   "execution_count": 3,
   "metadata": {},
   "outputs": [],
   "source": [
    "import json\n",
    "import pandas as pd"
   ]
  },
  {
   "cell_type": "code",
   "execution_count": 4,
   "metadata": {},
   "outputs": [],
   "source": [
    "from src import paths\n",
    "from src.data import Dataset\n",
    "from src import workflow"
   ]
  },
  {
   "cell_type": "markdown",
   "metadata": {},
   "source": [
    "## Load up the dataset\n",
    "\n",
    "The metadata has been augmented with where the files can be found relative to the `interim_data_path`"
   ]
  },
  {
   "cell_type": "code",
   "execution_count": 5,
   "metadata": {},
   "outputs": [],
   "source": [
    "#paths['interim_data_path']"
   ]
  },
  {
   "cell_type": "code",
   "execution_count": 6,
   "metadata": {},
   "outputs": [
    {
     "data": {
      "text/plain": [
       "['covid_nlp_20200319']"
      ]
     },
     "execution_count": 6,
     "metadata": {},
     "output_type": "execute_result"
    }
   ],
   "source": [
    "workflow.available_datasets()"
   ]
  },
  {
   "cell_type": "code",
   "execution_count": 7,
   "metadata": {},
   "outputs": [],
   "source": [
    "ds_name = 'covid_nlp_20200319'"
   ]
  },
  {
   "cell_type": "code",
   "execution_count": 8,
   "metadata": {},
   "outputs": [],
   "source": [
    "meta_ds = Dataset.load(ds_name)"
   ]
  },
  {
   "cell_type": "code",
   "execution_count": 9,
   "metadata": {},
   "outputs": [
    {
     "data": {
      "text/html": [
       "<div>\n",
       "<style scoped>\n",
       "    .dataframe tbody tr th:only-of-type {\n",
       "        vertical-align: middle;\n",
       "    }\n",
       "\n",
       "    .dataframe tbody tr th {\n",
       "        vertical-align: top;\n",
       "    }\n",
       "\n",
       "    .dataframe thead th {\n",
       "        text-align: right;\n",
       "    }\n",
       "</style>\n",
       "<table border=\"1\" class=\"dataframe\">\n",
       "  <thead>\n",
       "    <tr style=\"text-align: right;\">\n",
       "      <th></th>\n",
       "      <th>sha</th>\n",
       "      <th>source_x</th>\n",
       "      <th>title</th>\n",
       "      <th>doi</th>\n",
       "      <th>pmcid</th>\n",
       "      <th>pubmed_id</th>\n",
       "      <th>license</th>\n",
       "      <th>abstract</th>\n",
       "      <th>publish_time</th>\n",
       "      <th>authors</th>\n",
       "      <th>journal</th>\n",
       "      <th>Microsoft Academic Paper ID</th>\n",
       "      <th>WHO #Covidence</th>\n",
       "      <th>has_full_text</th>\n",
       "      <th>file_type</th>\n",
       "      <th>path</th>\n",
       "    </tr>\n",
       "  </thead>\n",
       "  <tbody>\n",
       "    <tr>\n",
       "      <td>0</td>\n",
       "      <td>c630ebcdf30652f0422c3ec12a00b50241dc9bd9</td>\n",
       "      <td>CZI</td>\n",
       "      <td>Angiotensin-converting enzyme 2 (ACE2) as a SA...</td>\n",
       "      <td>10.1007/s00134-020-05985-9</td>\n",
       "      <td>NaN</td>\n",
       "      <td>32125455</td>\n",
       "      <td>cc-by-nc</td>\n",
       "      <td>NaN</td>\n",
       "      <td>2020</td>\n",
       "      <td>Zhang, Haibo; Penninger, Josef M.; Li, Yimin; ...</td>\n",
       "      <td>Intensive Care Med</td>\n",
       "      <td>2002765492</td>\n",
       "      <td>#3252</td>\n",
       "      <td>True</td>\n",
       "      <td>noncomm_use_subset</td>\n",
       "      <td>noncomm_use_subset/c630ebcdf30652f0422c3ec12a0...</td>\n",
       "    </tr>\n",
       "    <tr>\n",
       "      <td>1</td>\n",
       "      <td>53eccda7977a31e3d0f565c884da036b1e85438e</td>\n",
       "      <td>CZI</td>\n",
       "      <td>Comparative genetic analysis of the novel coro...</td>\n",
       "      <td>10.1038/s41421-020-0147-1</td>\n",
       "      <td>NaN</td>\n",
       "      <td>NaN</td>\n",
       "      <td>cc-by</td>\n",
       "      <td>NaN</td>\n",
       "      <td>2020</td>\n",
       "      <td>Cao, Yanan; Li, Lin; Feng, Zhimin; Wan, Shengq...</td>\n",
       "      <td>Cell Discovery</td>\n",
       "      <td>3003430844</td>\n",
       "      <td>#1861</td>\n",
       "      <td>True</td>\n",
       "      <td>comm_use_subset</td>\n",
       "      <td>comm_use_subset/53eccda7977a31e3d0f565c884da03...</td>\n",
       "    </tr>\n",
       "    <tr>\n",
       "      <td>2</td>\n",
       "      <td>53eccda7977a31e3d0f565c884da036b1e85438e</td>\n",
       "      <td>PMC</td>\n",
       "      <td>Comparative genetic analysis of the novel coro...</td>\n",
       "      <td>http://dx.doi.org/10.1038/s41421-020-0147-1</td>\n",
       "      <td>PMC7040011</td>\n",
       "      <td>32133153</td>\n",
       "      <td>CC BY</td>\n",
       "      <td>NaN</td>\n",
       "      <td>2020 Feb 24</td>\n",
       "      <td>['Cao, Yanan', 'Li, Lin', 'Feng, Zhimin', 'Wan...</td>\n",
       "      <td>Cell Discov</td>\n",
       "      <td>NaN</td>\n",
       "      <td>NaN</td>\n",
       "      <td>True</td>\n",
       "      <td>comm_use_subset</td>\n",
       "      <td>comm_use_subset/53eccda7977a31e3d0f565c884da03...</td>\n",
       "    </tr>\n",
       "    <tr>\n",
       "      <td>3</td>\n",
       "      <td>210a892deb1c61577f6fba58505fd65356ce6636</td>\n",
       "      <td>CZI</td>\n",
       "      <td>Incubation Period and Other Epidemiological Ch...</td>\n",
       "      <td>10.3390/jcm9020538</td>\n",
       "      <td>NaN</td>\n",
       "      <td>NaN</td>\n",
       "      <td>cc-by</td>\n",
       "      <td>The geographic spread of 2019 novel coronaviru...</td>\n",
       "      <td>2020</td>\n",
       "      <td>Linton, M. Natalie; Kobayashi, Tetsuro; Yang, ...</td>\n",
       "      <td>Journal of Clinical Medicine</td>\n",
       "      <td>3006065484</td>\n",
       "      <td>#1043</td>\n",
       "      <td>True</td>\n",
       "      <td>comm_use_subset</td>\n",
       "      <td>comm_use_subset/210a892deb1c61577f6fba58505fd6...</td>\n",
       "    </tr>\n",
       "    <tr>\n",
       "      <td>4</td>\n",
       "      <td>e3b40cc8e0e137c416b4a2273a4dca94ae8178cc</td>\n",
       "      <td>CZI</td>\n",
       "      <td>Characteristics of and Public Health Responses...</td>\n",
       "      <td>10.3390/jcm9020575</td>\n",
       "      <td>NaN</td>\n",
       "      <td>32093211</td>\n",
       "      <td>cc-by</td>\n",
       "      <td>In December 2019, cases of unidentified pneumo...</td>\n",
       "      <td>2020</td>\n",
       "      <td>Deng, Sheng-Qun; Peng, Hong-Juan</td>\n",
       "      <td>J Clin Med</td>\n",
       "      <td>177663115</td>\n",
       "      <td>#1999</td>\n",
       "      <td>True</td>\n",
       "      <td>comm_use_subset</td>\n",
       "      <td>comm_use_subset/e3b40cc8e0e137c416b4a2273a4dca...</td>\n",
       "    </tr>\n",
       "  </tbody>\n",
       "</table>\n",
       "</div>"
      ],
      "text/plain": [
       "                                        sha source_x  \\\n",
       "0  c630ebcdf30652f0422c3ec12a00b50241dc9bd9      CZI   \n",
       "1  53eccda7977a31e3d0f565c884da036b1e85438e      CZI   \n",
       "2  53eccda7977a31e3d0f565c884da036b1e85438e      PMC   \n",
       "3  210a892deb1c61577f6fba58505fd65356ce6636      CZI   \n",
       "4  e3b40cc8e0e137c416b4a2273a4dca94ae8178cc      CZI   \n",
       "\n",
       "                                               title  \\\n",
       "0  Angiotensin-converting enzyme 2 (ACE2) as a SA...   \n",
       "1  Comparative genetic analysis of the novel coro...   \n",
       "2  Comparative genetic analysis of the novel coro...   \n",
       "3  Incubation Period and Other Epidemiological Ch...   \n",
       "4  Characteristics of and Public Health Responses...   \n",
       "\n",
       "                                           doi       pmcid pubmed_id  \\\n",
       "0                   10.1007/s00134-020-05985-9         NaN  32125455   \n",
       "1                    10.1038/s41421-020-0147-1         NaN       NaN   \n",
       "2  http://dx.doi.org/10.1038/s41421-020-0147-1  PMC7040011  32133153   \n",
       "3                           10.3390/jcm9020538         NaN       NaN   \n",
       "4                           10.3390/jcm9020575         NaN  32093211   \n",
       "\n",
       "    license                                           abstract publish_time  \\\n",
       "0  cc-by-nc                                                NaN         2020   \n",
       "1     cc-by                                                NaN         2020   \n",
       "2     CC BY                                                NaN  2020 Feb 24   \n",
       "3     cc-by  The geographic spread of 2019 novel coronaviru...         2020   \n",
       "4     cc-by  In December 2019, cases of unidentified pneumo...         2020   \n",
       "\n",
       "                                             authors  \\\n",
       "0  Zhang, Haibo; Penninger, Josef M.; Li, Yimin; ...   \n",
       "1  Cao, Yanan; Li, Lin; Feng, Zhimin; Wan, Shengq...   \n",
       "2  ['Cao, Yanan', 'Li, Lin', 'Feng, Zhimin', 'Wan...   \n",
       "3  Linton, M. Natalie; Kobayashi, Tetsuro; Yang, ...   \n",
       "4                   Deng, Sheng-Qun; Peng, Hong-Juan   \n",
       "\n",
       "                        journal Microsoft Academic Paper ID WHO #Covidence  \\\n",
       "0            Intensive Care Med                  2002765492          #3252   \n",
       "1                Cell Discovery                  3003430844          #1861   \n",
       "2                   Cell Discov                         NaN            NaN   \n",
       "3  Journal of Clinical Medicine                  3006065484          #1043   \n",
       "4                    J Clin Med                   177663115          #1999   \n",
       "\n",
       "  has_full_text           file_type  \\\n",
       "0          True  noncomm_use_subset   \n",
       "1          True     comm_use_subset   \n",
       "2          True     comm_use_subset   \n",
       "3          True     comm_use_subset   \n",
       "4          True     comm_use_subset   \n",
       "\n",
       "                                                path  \n",
       "0  noncomm_use_subset/c630ebcdf30652f0422c3ec12a0...  \n",
       "1  comm_use_subset/53eccda7977a31e3d0f565c884da03...  \n",
       "2  comm_use_subset/53eccda7977a31e3d0f565c884da03...  \n",
       "3  comm_use_subset/210a892deb1c61577f6fba58505fd6...  \n",
       "4  comm_use_subset/e3b40cc8e0e137c416b4a2273a4dca...  "
      ]
     },
     "execution_count": 9,
     "metadata": {},
     "output_type": "execute_result"
    }
   ],
   "source": [
    "meta_df = meta_ds.data\n",
    "meta_df.head()"
   ]
  },
  {
   "cell_type": "markdown",
   "metadata": {},
   "source": [
    "## Basics on the dataset\n",
    "\n",
    "The papers are in `json` format and include:\n",
    "* `paper_id`\n",
    "* `metadata`\n",
    "* `abstract`\n",
    "* `body_text`\n",
    "* `bib_entries`\n",
    "* `ref_entries`\n",
    "* `back_matter`\n",
    "\n",
    "For example:"
   ]
  },
  {
   "cell_type": "code",
   "execution_count": 10,
   "metadata": {},
   "outputs": [
    {
     "data": {
      "text/plain": [
       "dict_keys(['paper_id', 'metadata', 'abstract', 'body_text', 'bib_entries', 'ref_entries', 'back_matter'])"
      ]
     },
     "execution_count": 10,
     "metadata": {},
     "output_type": "execute_result"
    }
   ],
   "source": [
    "filename = paths['interim_data_path'] / ds_name / meta_df['path'][0]\n",
    "file = json.load(open(filename, 'rb'))\n",
    "file.keys()"
   ]
  },
  {
   "cell_type": "markdown",
   "metadata": {},
   "source": [
    "# Embedding prep"
   ]
  },
  {
   "cell_type": "markdown",
   "metadata": {},
   "source": [
    "### If you want to take abstracts to start with as in....\n",
    "https://gitlab.com/ar2a/covid19-kaggle/-/blob/master/notebooks/gpclend_embed_abstracts.ipynb (you will be able to pick up this notebook from **Point ranking (will be used later)**)"
   ]
  },
  {
   "cell_type": "code",
   "execution_count": 11,
   "metadata": {},
   "outputs": [],
   "source": [
    "abstracts = meta_df.abstract.dropna()"
   ]
  },
  {
   "cell_type": "code",
   "execution_count": 12,
   "metadata": {},
   "outputs": [
    {
     "data": {
      "text/plain": [
       "3     The geographic spread of 2019 novel coronaviru...\n",
       "4     In December 2019, cases of unidentified pneumo...\n",
       "6     The basic reproduction number of an infectious...\n",
       "7     The initial cluster of severe pneumonia cases ...\n",
       "10    Cruise ships carry a large number of people in...\n",
       "Name: abstract, dtype: object"
      ]
     },
     "execution_count": 12,
     "metadata": {},
     "output_type": "execute_result"
    }
   ],
   "source": [
    "abstracts[:5]"
   ]
  },
  {
   "cell_type": "code",
   "execution_count": 13,
   "metadata": {},
   "outputs": [
    {
     "data": {
      "text/plain": [
       "26909"
      ]
     },
     "execution_count": 13,
     "metadata": {},
     "output_type": "execute_result"
    }
   ],
   "source": [
    "len(abstracts)"
   ]
  },
  {
   "cell_type": "markdown",
   "metadata": {},
   "source": [
    "## If you want to split up documents by their sections\n",
    "\n",
    "As in\n",
    "* https://gitlab.com/ar2a/covid19-kaggle/-/blob/master/notebooks/mpfrane-scispacy-tokenization.ipynb (the processing below will take care of everything up to: **Apply scispacy tokenization**) \n",
    "* https://gitlab.com/ar2a/covid19-kaggle/-/blob/master/notebooks/top2vec_corona_dangel.ipynb (the processing below will take care of everything up to: **Train Top2Vec Model**)\n",
    "\n",
    "i.e. turn each section into its own row, and treat sections as their own documents for embedding"
   ]
  },
  {
   "cell_type": "code",
   "execution_count": 14,
   "metadata": {},
   "outputs": [],
   "source": [
    "from src.data.localdata import create_section_df"
   ]
  },
  {
   "cell_type": "code",
   "execution_count": 15,
   "metadata": {},
   "outputs": [],
   "source": [
    "# filter down however you like based on the metadata\n",
    "df = meta_df[:100]"
   ]
  },
  {
   "cell_type": "code",
   "execution_count": 16,
   "metadata": {},
   "outputs": [
    {
     "name": "stdout",
     "output_type": "stream",
     "text": [
      "Help on function create_section_df in module src.data.localdata:\n",
      "\n",
      "create_section_df(df, unpack_dir=None, extract_dir='covid_nlp_20200319', min_tokens=200)\n",
      "    Given a dataframe df of the form of the covid metadata augmented dataset (e.g. covid_nlp_20200319)\n",
      "    \n",
      "    Created a dataframe where each row is a section of a paper from the dataframe (for which a\n",
      "    full-text version exists)\n",
      "    \n",
      "    Parameters\n",
      "    ----------\n",
      "    df:\n",
      "        a metadata dataframe (.data from a metadata datasource)\n",
      "    extract_dir:\n",
      "        The name of the directory the files have been unpacked into\n",
      "    min_tokens:\n",
      "        Require sections to have at least min_tokens tokens to be included\n",
      "    unpack_dir:\n",
      "        The interim data directory. If None, it will use the\n",
      "        interim_data_path in paths. Only pass this if you want to override the default.\n",
      "    \n",
      "    Returns\n",
      "    -------\n",
      "    section dataframe with columns: ['paper_id', 'title', 'abstract', 'section', 'text', 'token_counts']\n",
      "\n"
     ]
    }
   ],
   "source": [
    "help(create_section_df)"
   ]
  },
  {
   "cell_type": "code",
   "execution_count": 17,
   "metadata": {},
   "outputs": [
    {
     "name": "stdout",
     "output_type": "stream",
     "text": [
      "CPU times: user 11.8 s, sys: 300 ms, total: 12.1 s\n",
      "Wall time: 13.7 s\n"
     ]
    }
   ],
   "source": [
    "%%time\n",
    "parsed_df = create_section_df(df)"
   ]
  },
  {
   "cell_type": "code",
   "execution_count": 18,
   "metadata": {},
   "outputs": [
    {
     "data": {
      "text/html": [
       "<div>\n",
       "<style scoped>\n",
       "    .dataframe tbody tr th:only-of-type {\n",
       "        vertical-align: middle;\n",
       "    }\n",
       "\n",
       "    .dataframe tbody tr th {\n",
       "        vertical-align: top;\n",
       "    }\n",
       "\n",
       "    .dataframe thead th {\n",
       "        text-align: right;\n",
       "    }\n",
       "</style>\n",
       "<table border=\"1\" class=\"dataframe\">\n",
       "  <thead>\n",
       "    <tr style=\"text-align: right;\">\n",
       "      <th></th>\n",
       "      <th>paper_id</th>\n",
       "      <th>title</th>\n",
       "      <th>abstract</th>\n",
       "      <th>section</th>\n",
       "      <th>text</th>\n",
       "      <th>token_counts</th>\n",
       "    </tr>\n",
       "  </thead>\n",
       "  <tbody>\n",
       "    <tr>\n",
       "      <td>0</td>\n",
       "      <td>c630ebcdf30652f0422c3ec12a00b50241dc9bd9</td>\n",
       "      <td>Angiotensin-converting enzyme 2 (ACE2) as a SA...</td>\n",
       "      <td></td>\n",
       "      <td>SARS-CoV-2 and severe acute respiratory syndro...</td>\n",
       "      <td>SARS-CoV-2 has been sequenced [3] . A phylogen...</td>\n",
       "      <td>209</td>\n",
       "    </tr>\n",
       "    <tr>\n",
       "      <td>1</td>\n",
       "      <td>c630ebcdf30652f0422c3ec12a00b50241dc9bd9</td>\n",
       "      <td>Angiotensin-converting enzyme 2 (ACE2) as a SA...</td>\n",
       "      <td></td>\n",
       "      <td>SARS-CoV-2 and severe acute respiratory syndro...</td>\n",
       "      <td>SARS-CoV-2 has been sequenced [3] . A phylogen...</td>\n",
       "      <td>338</td>\n",
       "    </tr>\n",
       "    <tr>\n",
       "      <td>2</td>\n",
       "      <td>c630ebcdf30652f0422c3ec12a00b50241dc9bd9</td>\n",
       "      <td>Angiotensin-converting enzyme 2 (ACE2) as a SA...</td>\n",
       "      <td></td>\n",
       "      <td>SARS-CoV-2 and severe acute respiratory syndro...</td>\n",
       "      <td>SARS-CoV-2 has been sequenced [3] . A phylogen...</td>\n",
       "      <td>421</td>\n",
       "    </tr>\n",
       "    <tr>\n",
       "      <td>3</td>\n",
       "      <td>c630ebcdf30652f0422c3ec12a00b50241dc9bd9</td>\n",
       "      <td>Angiotensin-converting enzyme 2 (ACE2) as a SA...</td>\n",
       "      <td></td>\n",
       "      <td>SARS-CoV-2 and severe acute respiratory syndro...</td>\n",
       "      <td>SARS-CoV-2 has been sequenced [3] . A phylogen...</td>\n",
       "      <td>421</td>\n",
       "    </tr>\n",
       "    <tr>\n",
       "      <td>4</td>\n",
       "      <td>c630ebcdf30652f0422c3ec12a00b50241dc9bd9</td>\n",
       "      <td>Angiotensin-converting enzyme 2 (ACE2) as a SA...</td>\n",
       "      <td></td>\n",
       "      <td>Enrichment distribution of ACE2 receptor in hu...</td>\n",
       "      <td>A key question is why the lung appears to be t...</td>\n",
       "      <td>292</td>\n",
       "    </tr>\n",
       "  </tbody>\n",
       "</table>\n",
       "</div>"
      ],
      "text/plain": [
       "                                   paper_id  \\\n",
       "0  c630ebcdf30652f0422c3ec12a00b50241dc9bd9   \n",
       "1  c630ebcdf30652f0422c3ec12a00b50241dc9bd9   \n",
       "2  c630ebcdf30652f0422c3ec12a00b50241dc9bd9   \n",
       "3  c630ebcdf30652f0422c3ec12a00b50241dc9bd9   \n",
       "4  c630ebcdf30652f0422c3ec12a00b50241dc9bd9   \n",
       "\n",
       "                                               title abstract  \\\n",
       "0  Angiotensin-converting enzyme 2 (ACE2) as a SA...            \n",
       "1  Angiotensin-converting enzyme 2 (ACE2) as a SA...            \n",
       "2  Angiotensin-converting enzyme 2 (ACE2) as a SA...            \n",
       "3  Angiotensin-converting enzyme 2 (ACE2) as a SA...            \n",
       "4  Angiotensin-converting enzyme 2 (ACE2) as a SA...            \n",
       "\n",
       "                                             section  \\\n",
       "0  SARS-CoV-2 and severe acute respiratory syndro...   \n",
       "1  SARS-CoV-2 and severe acute respiratory syndro...   \n",
       "2  SARS-CoV-2 and severe acute respiratory syndro...   \n",
       "3  SARS-CoV-2 and severe acute respiratory syndro...   \n",
       "4  Enrichment distribution of ACE2 receptor in hu...   \n",
       "\n",
       "                                                text  token_counts  \n",
       "0  SARS-CoV-2 has been sequenced [3] . A phylogen...           209  \n",
       "1  SARS-CoV-2 has been sequenced [3] . A phylogen...           338  \n",
       "2  SARS-CoV-2 has been sequenced [3] . A phylogen...           421  \n",
       "3  SARS-CoV-2 has been sequenced [3] . A phylogen...           421  \n",
       "4  A key question is why the lung appears to be t...           292  "
      ]
     },
     "execution_count": 18,
     "metadata": {},
     "output_type": "execute_result"
    }
   ],
   "source": [
    "parsed_df.head()"
   ]
  },
  {
   "cell_type": "code",
   "execution_count": null,
   "metadata": {},
   "outputs": [],
   "source": []
  }
 ],
 "metadata": {
  "kernelspec": {
   "display_name": "Python [conda env:covid_nlp] *",
   "language": "python",
   "name": "conda-env-covid_nlp-py"
  },
  "language_info": {
   "codemirror_mode": {
    "name": "ipython",
    "version": 3
   },
   "file_extension": ".py",
   "mimetype": "text/x-python",
   "name": "python",
   "nbconvert_exporter": "python",
   "pygments_lexer": "ipython3",
   "version": "3.7.6"
  }
 },
 "nbformat": 4,
 "nbformat_minor": 4
}
